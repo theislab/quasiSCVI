{
 "cells": [
  {
   "cell_type": "code",
   "execution_count": 1,
   "id": "b95a64b9-313e-4b7b-94cb-9ac9f650cc5a",
   "metadata": {},
   "outputs": [
    {
     "name": "stderr",
     "output_type": "stream",
     "text": [
      "OMP: Info #276: omp_set_nested routine deprecated, please use omp_set_max_active_levels instead.\n"
     ]
    }
   ],
   "source": [
    "import os\n",
    "import tempfile\n",
    "import pertpy as pt\n",
    "\n",
    "import numpy as np\n",
    "import requests\n",
    "import scanpy as sc\n",
    "import scvi\n",
    "import seaborn as sns\n",
    "import torch"
   ]
  },
  {
   "cell_type": "code",
   "execution_count": 2,
   "id": "958d18dd-4096-435d-a0b3-88f859baa882",
   "metadata": {},
   "outputs": [
    {
     "name": "stderr",
     "output_type": "stream",
     "text": [
      "Seed set to 0\n"
     ]
    },
    {
     "name": "stdout",
     "output_type": "stream",
     "text": [
      "Last run with scvi-tools version: 1.1.3\n"
     ]
    }
   ],
   "source": [
    "scvi.settings.seed = 0\n",
    "print(\"Last run with scvi-tools version:\", scvi.__version__)"
   ]
  },
  {
   "cell_type": "code",
   "execution_count": 3,
   "id": "fd26d94d-d0fe-433c-89ba-70afedf41e6d",
   "metadata": {},
   "outputs": [],
   "source": [
    "sc.set_figure_params(figsize=(6, 6), frameon=False)\n",
    "sns.set_theme()\n",
    "torch.set_float32_matmul_precision(\"high\")\n",
    "save_dir = tempfile.TemporaryDirectory()\n",
    "\n",
    "%config InlineBackend.print_figure_kwargs={\"facecolor\": \"w\"}\n",
    "%config InlineBackend.figure_format=\"retina\""
   ]
  },
  {
   "cell_type": "code",
   "execution_count": 4,
   "id": "71f79677-3ce2-4bbc-b199-6831e1cd9079",
   "metadata": {},
   "outputs": [
    {
     "name": "stderr",
     "output_type": "stream",
     "text": [
      "/Library/Frameworks/Python.framework/Versions/3.12/lib/python3.12/site-packages/anndata/_core/anndata.py:430: FutureWarning: The dtype argument is deprecated and will be removed in late 2024.\n",
      "  warnings.warn(\n",
      "/Library/Frameworks/Python.framework/Versions/3.12/lib/python3.12/site-packages/anndata/_core/anndata.py:430: FutureWarning: The dtype argument is deprecated and will be removed in late 2024.\n",
      "  warnings.warn(\n",
      "/Library/Frameworks/Python.framework/Versions/3.12/lib/python3.12/site-packages/anndata/_core/anndata.py:430: FutureWarning: The dtype argument is deprecated and will be removed in late 2024.\n",
      "  warnings.warn(\n",
      "/Library/Frameworks/Python.framework/Versions/3.12/lib/python3.12/site-packages/anndata/_core/anndata.py:430: FutureWarning: The dtype argument is deprecated and will be removed in late 2024.\n",
      "  warnings.warn(\n",
      "/Library/Frameworks/Python.framework/Versions/3.12/lib/python3.12/site-packages/mudata/_core/mudata.py:491: UserWarning: Cannot join columns with the same name because var_names are intersecting.\n",
      "  warnings.warn(\n"
     ]
    }
   ],
   "source": [
    "mdata = pt.dt.papalexi_2021()"
   ]
  },
  {
   "cell_type": "code",
   "execution_count": 5,
   "id": "ea5e58e3-bb3a-4bec-8870-59ac0d405ebe",
   "metadata": {},
   "outputs": [],
   "source": [
    "mdata[\"rna\"].layers['counts'] = mdata[\"rna\"].X"
   ]
  },
  {
   "cell_type": "code",
   "execution_count": null,
   "id": "29b0226d-cade-42a7-afbf-0eb2135afd40",
   "metadata": {},
   "outputs": [],
   "source": [
    "sc.pp.normalize_total(mdata[\"rna\"])\n",
    "sc.pp.log1p(mdata[\"rna\"])\n",
    "sc.pp.highly_variable_genes(mdata[\"rna\"],n_top_genes=2000, batch_key=\"replicate\",  subset=True)"
   ]
  },
  {
   "cell_type": "code",
   "execution_count": 6,
   "id": "df172c3e-e7eb-4bed-b23f-7da7714ea3f5",
   "metadata": {},
   "outputs": [],
   "source": [
    "adata_ref = mdata[\"rna\"].copy()\n"
   ]
  },
  {
   "cell_type": "code",
   "execution_count": 7,
   "id": "fa291388-9e12-4046-b1a8-0120d34f24b7",
   "metadata": {},
   "outputs": [
    {
     "data": {
      "text/plain": [
       "AnnData object with n_obs × n_vars = 20729 × 18649\n",
       "    obs: 'orig.ident', 'nCount_RNA', 'nFeature_RNA', 'nCount_HTO', 'nFeature_HTO', 'nCount_GDO', 'nCount_ADT', 'nFeature_ADT', 'percent.mito', 'MULTI_ID', 'HTO_classification', 'guide_ID', 'gene_target', 'NT', 'perturbation', 'replicate', 'S.Score', 'G2M.Score', 'Phase'\n",
       "    var: 'name'\n",
       "    layers: 'counts'"
      ]
     },
     "execution_count": 7,
     "metadata": {},
     "output_type": "execute_result"
    }
   ],
   "source": [
    "adata_ref"
   ]
  },
  {
   "cell_type": "code",
   "execution_count": 8,
   "id": "bab01d38-d591-4316-a5d5-10b24c8d7d76",
   "metadata": {},
   "outputs": [
    {
     "name": "stderr",
     "output_type": "stream",
     "text": [
      "/Library/Frameworks/Python.framework/Versions/3.12/lib/python3.12/site-packages/scvi/data/fields/_layer_field.py:116: UserWarning: Training will be faster when sparse matrix is formatted as CSR. It is safe to cast before model initialization.\n",
      "  _verify_and_correct_data_format(adata, self.attr_name, self.attr_key)\n"
     ]
    }
   ],
   "source": [
    "scvi.external.ContrastiveVI.setup_anndata(adata_ref, batch_key = 'replicate', layer=\"counts\")"
   ]
  },
  {
   "cell_type": "code",
   "execution_count": 9,
   "id": "69fc72f0-edcb-40d0-b2ec-11a09b97780c",
   "metadata": {},
   "outputs": [],
   "source": [
    "contrastive_vi_model = scvi.external.ContrastiveVI(\n",
    "    adata_ref, n_salient_latent=10, n_background_latent=10, use_observed_lib_size=False\n",
    ")"
   ]
  },
  {
   "cell_type": "code",
   "execution_count": 10,
   "id": "78673060-7d80-4f9c-90cc-c42410a07026",
   "metadata": {},
   "outputs": [],
   "source": [
    "background_indices = np.where(adata_ref.obs[\"gene_target\"] == \"NT\")[0]\n",
    "target_indices = np.where(adata_ref.obs[\"gene_target\"] != \"NT\")[0]"
   ]
  },
  {
   "cell_type": "code",
   "execution_count": null,
   "id": "b1282550-6926-46e2-b307-1cac30e0ef3a",
   "metadata": {},
   "outputs": [
    {
     "name": "stderr",
     "output_type": "stream",
     "text": [
      "GPU available: True (mps), used: False\n",
      "TPU available: False, using: 0 TPU cores\n",
      "IPU available: False, using: 0 IPUs\n",
      "HPU available: False, using: 0 HPUs\n",
      "/Library/Frameworks/Python.framework/Versions/3.12/lib/python3.12/site-packages/lightning/pytorch/trainer/setup.py:187: GPU available but not used. You can set it by doing `Trainer(accelerator='gpu')`.\n",
      "/Library/Frameworks/Python.framework/Versions/3.12/lib/python3.12/site-packages/lightning/pytorch/trainer/connectors/data_connector.py:441: The 'train_dataloader' does not have many workers which may be a bottleneck. Consider increasing the value of the `num_workers` argument` to `num_workers=9` in the `DataLoader` to improve performance.\n",
      "/Library/Frameworks/Python.framework/Versions/3.12/lib/python3.12/site-packages/lightning/pytorch/trainer/connectors/data_connector.py:441: The 'val_dataloader' does not have many workers which may be a bottleneck. Consider increasing the value of the `num_workers` argument` to `num_workers=9` in the `DataLoader` to improve performance.\n"
     ]
    },
    {
     "name": "stdout",
     "output_type": "stream",
     "text": [
      "Epoch 1/500:   0%|                                                                                             | 0/500 [00:00<?, ?it/s]"
     ]
    },
    {
     "name": "stderr",
     "output_type": "stream",
     "text": [
      "/Library/Frameworks/Python.framework/Versions/3.12/lib/python3.12/site-packages/lightning/pytorch/utilities/data.py:77: Trying to infer the `batch_size` from an ambiguous collection. The batch size we found is 110. To avoid any miscalculations, use `self.log(..., batch_size=batch_size)`.\n"
     ]
    },
    {
     "name": "stdout",
     "output_type": "stream",
     "text": [
      "Epoch 2/500:   0%|                       | 1/500 [00:50<7:00:12, 50.53s/it, v_num=1, train_loss_step=3.37e+4, train_loss_epoch=1.02e+5]"
     ]
    },
    {
     "name": "stderr",
     "output_type": "stream",
     "text": [
      "/Library/Frameworks/Python.framework/Versions/3.12/lib/python3.12/site-packages/lightning/pytorch/utilities/data.py:77: Trying to infer the `batch_size` from an ambiguous collection. The batch size we found is 128. To avoid any miscalculations, use `self.log(..., batch_size=batch_size)`.\n"
     ]
    },
    {
     "name": "stdout",
     "output_type": "stream",
     "text": [
      "Epoch 14/500:   3%|▌                       | 13/500 [11:11<7:00:33, 51.81s/it, v_num=1, train_loss_step=1.97e+4, train_loss_epoch=2e+4]"
     ]
    }
   ],
   "source": [
    "contrastive_vi_model.train(\n",
    "    background_indices=background_indices,\n",
    "    target_indices=target_indices,\n",
    "    early_stopping=True,\n",
    "    max_epochs=500,\n",
    ")"
   ]
  },
  {
   "cell_type": "code",
   "execution_count": null,
   "id": "097f4ad8-2b02-4ce9-a7f7-1596977c612a",
   "metadata": {},
   "outputs": [],
   "source": [
    "perturbed_adata = adata_ref[adata_ref.obs[\"gene_target\"] != \"NT\"]  # Only consider perturbed cells\n"
   ]
  },
  {
   "cell_type": "code",
   "execution_count": null,
   "id": "c78ddace-c439-4c0f-ad7b-06d1a287691a",
   "metadata": {},
   "outputs": [],
   "source": [
    "perturbed_adata.obsm[\"salient_rep\"] = contrastive_vi_model.get_latent_representation(\n",
    "    perturbed_adata, representation_kind=\"salient\"\n",
    ")"
   ]
  },
  {
   "cell_type": "code",
   "execution_count": null,
   "id": "1bfcfad3-679d-48de-951e-0844c9c71ddc",
   "metadata": {},
   "outputs": [],
   "source": [
    "sc.pp.neighbors(perturbed_adata, use_rep=\"salient_rep\")\n",
    "sc.tl.umap(perturbed_adata)\n",
    "sc.pl.umap(perturbed_adata, color=[\"Phase\", \"gene_target\"])"
   ]
  },
  {
   "cell_type": "code",
   "execution_count": null,
   "id": "63b2115a-fce7-4025-9e46-3e9163a4b312",
   "metadata": {},
   "outputs": [],
   "source": [
    "sc.pl.umap(perturbed_adata, color=[\"NT\"])"
   ]
  },
  {
   "cell_type": "code",
   "execution_count": null,
   "id": "79379a9e-e167-430a-b122-99cd426df961",
   "metadata": {},
   "outputs": [],
   "source": []
  }
 ],
 "metadata": {
  "kernelspec": {
   "display_name": "Python 3 (ipykernel)",
   "language": "python",
   "name": "python3"
  },
  "language_info": {
   "codemirror_mode": {
    "name": "ipython",
    "version": 3
   },
   "file_extension": ".py",
   "mimetype": "text/x-python",
   "name": "python",
   "nbconvert_exporter": "python",
   "pygments_lexer": "ipython3",
   "version": "3.12.0"
  }
 },
 "nbformat": 4,
 "nbformat_minor": 5
}
